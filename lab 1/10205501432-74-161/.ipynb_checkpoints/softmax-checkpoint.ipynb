{
 "cells": [
  {
   "cell_type": "markdown",
   "metadata": {
    "tags": [
     "pdf-title"
    ]
   },
   "source": [
    "# Softmax 练习\n",
    "\n",
    "*补充并完成本练习。*\n",
    "\n",
    "本练习类似于SVM练习，你要完成的事情包括:\n",
    "\n",
    "- 为Softmax分类器实现完全矢量化的**损失函数**\n",
    "- 实现其**解析梯度（analytic gradient）**的完全矢量化表达式\n",
    "- 用数值梯度**检查你的代码**\n",
    "- 使用验证集**调整学习率和正则化强度**\n",
    "- 使用**SGD优化**损失函数\n",
    "- **可视化**最终学习的权重\n"
   ]
  },
  {
   "cell_type": "code",
   "execution_count": 1,
   "metadata": {
    "tags": [
     "pdf-ignore"
    ]
   },
   "outputs": [],
   "source": [
    "import random\n",
    "import numpy as np\n",
    "from daseCV.data_utils import load_CIFAR10\n",
    "import matplotlib.pyplot as plt\n",
    "\n",
    "%matplotlib inline\n",
    "plt.rcParams['figure.figsize'] = (10.0, 8.0) # set default size of plots\n",
    "plt.rcParams['image.interpolation'] = 'nearest'\n",
    "plt.rcParams['image.cmap'] = 'gray'\n",
    "\n",
    "# for auto-reloading extenrnal modules\n",
    "# see http://stackoverflow.com/questions/1907993/autoreload-of-modules-in-ipython\n",
    "%load_ext autoreload\n",
    "%autoreload 2"
   ]
  },
  {
   "cell_type": "code",
   "execution_count": 2,
   "metadata": {
    "tags": [
     "pdf-ignore"
    ]
   },
   "outputs": [
    {
     "name": "stdout",
     "output_type": "stream",
     "text": [
      "Train data shape:  (49000, 3073)\n",
      "Train labels shape:  (49000,)\n",
      "Validation data shape:  (1000, 3073)\n",
      "Validation labels shape:  (1000,)\n",
      "Test data shape:  (1000, 3073)\n",
      "Test labels shape:  (1000,)\n",
      "dev data shape:  (500, 3073)\n",
      "dev labels shape:  (500,)\n"
     ]
    }
   ],
   "source": [
    "def get_CIFAR10_data(num_training=49000, num_validation=1000, num_test=1000, num_dev=500):\n",
    "    \"\"\"\n",
    "    Load the CIFAR-10 dataset from disk and perform preprocessing to prepare\n",
    "    it for the linear classifier. These are the same steps as we used for the\n",
    "    SVM, but condensed to a single function.  \n",
    "    \"\"\"\n",
    "    # Load the raw CIFAR-10 data\n",
    "    cifar10_dir = 'daseCV/datasets/cifar-10-batches-py'\n",
    "    \n",
    "    # Cleaning up variables to prevent loading data multiple times (which may cause memory issue)\n",
    "    try:\n",
    "       del X_train, y_train\n",
    "       del X_test, y_test\n",
    "       print('Clear previously loaded data.')\n",
    "    except:\n",
    "       pass\n",
    "\n",
    "    X_train, y_train, X_test, y_test = load_CIFAR10(cifar10_dir)\n",
    "    \n",
    "    # subsample the data\n",
    "    mask = list(range(num_training, num_training + num_validation))\n",
    "    X_val = X_train[mask]\n",
    "    y_val = y_train[mask]\n",
    "    mask = list(range(num_training))\n",
    "    X_train = X_train[mask]\n",
    "    y_train = y_train[mask]\n",
    "    mask = list(range(num_test))\n",
    "    X_test = X_test[mask]\n",
    "    y_test = y_test[mask]\n",
    "    mask = np.random.choice(num_training, num_dev, replace=False)\n",
    "    X_dev = X_train[mask]\n",
    "    y_dev = y_train[mask]\n",
    "    \n",
    "    # Preprocessing: reshape the image data into rows\n",
    "    X_train = np.reshape(X_train, (X_train.shape[0], -1))\n",
    "    X_val = np.reshape(X_val, (X_val.shape[0], -1))\n",
    "    X_test = np.reshape(X_test, (X_test.shape[0], -1))\n",
    "    X_dev = np.reshape(X_dev, (X_dev.shape[0], -1))\n",
    "    \n",
    "    # Normalize the data: subtract the mean image\n",
    "    mean_image = np.mean(X_train, axis = 0)\n",
    "    X_train -= mean_image\n",
    "    X_val -= mean_image\n",
    "    X_test -= mean_image\n",
    "    X_dev -= mean_image\n",
    "    \n",
    "    # add bias dimension and transform into columns\n",
    "    X_train = np.hstack([X_train, np.ones((X_train.shape[0], 1))])\n",
    "    X_val = np.hstack([X_val, np.ones((X_val.shape[0], 1))])\n",
    "    X_test = np.hstack([X_test, np.ones((X_test.shape[0], 1))])\n",
    "    X_dev = np.hstack([X_dev, np.ones((X_dev.shape[0], 1))])\n",
    "    \n",
    "    return X_train, y_train, X_val, y_val, X_test, y_test, X_dev, y_dev\n",
    "\n",
    "\n",
    "# Invoke the above function to get our data.\n",
    "X_train, y_train, X_val, y_val, X_test, y_test, X_dev, y_dev = get_CIFAR10_data()\n",
    "print('Train data shape: ', X_train.shape)\n",
    "print('Train labels shape: ', y_train.shape)\n",
    "print('Validation data shape: ', X_val.shape)\n",
    "print('Validation labels shape: ', y_val.shape)\n",
    "print('Test data shape: ', X_test.shape)\n",
    "print('Test labels shape: ', y_test.shape)\n",
    "print('dev data shape: ', X_dev.shape)\n",
    "print('dev labels shape: ', y_dev.shape)"
   ]
  },
  {
   "cell_type": "markdown",
   "metadata": {},
   "source": [
    "## Softmax 分类器\n",
    "\n",
    "请在**daseCV/classifiers/softmax.py**中完成本节的代码。"
   ]
  },
  {
   "cell_type": "code",
   "execution_count": 3,
   "metadata": {},
   "outputs": [
    {
     "name": "stdout",
     "output_type": "stream",
     "text": [
      "loss: 2.328941\n",
      "sanity check: 2.302585\n"
     ]
    }
   ],
   "source": [
    "# 首先使用嵌套循环实现简单的softmax损失函数。\n",
    "# 打开文件 daseCV/classifiers/softmax.py 并补充完成\n",
    "# softmax_loss_naive 函数.\n",
    "\n",
    "from daseCV.classifiers.softmax import softmax_loss_naive\n",
    "import time\n",
    "\n",
    "# 生成一个随机的softmax权重矩阵，并使用它来计算损失。\n",
    "W = np.random.randn(3073, 10) * 0.0001\n",
    "loss, grad = softmax_loss_naive(W, X_dev, y_dev, 0.0)\n",
    "\n",
    "# As a rough sanity check, our loss should be something close to -log(0.1).\n",
    "print('loss: %f' % loss)\n",
    "print('sanity check: %f' % (-np.log(0.1)))"
   ]
  },
  {
   "cell_type": "markdown",
   "metadata": {
    "tags": [
     "pdf-inline"
    ]
   },
   "source": [
    "**问题 1**\n",
    "\n",
    "\n",
    "为什么我们期望损失接近-log（0.1）？简要说明。\n",
    "\n",
    "$\\color{blue}{\\textit 答:}$ 因为这时候我们只是随机生成了一个权重矩阵进行计算，所以十个类中的任何一个被选中的概率都是相当的，即 $e^{s_{y_i}}=e^{s_j},\\forall j$，故 $L_i=-log(\\frac{e^{s_{y_i}}}{\\sum_j e^{s_j}})=-log(\\frac{e^{s_{y_i}}}{10e^{s_{y_i}}})=-log(0.1)$ 。\n",
    "\n"
   ]
  },
  {
   "cell_type": "code",
   "execution_count": 4,
   "metadata": {},
   "outputs": [
    {
     "name": "stdout",
     "output_type": "stream",
     "text": [
      "numerical: -1.834718 analytic: -1.834718, relative error: 3.277110e-08\n",
      "numerical: 0.369178 analytic: 0.369178, relative error: 1.396000e-07\n",
      "numerical: 1.958219 analytic: 1.958219, relative error: 5.499547e-08\n",
      "numerical: -0.127708 analytic: -0.127708, relative error: 8.052628e-09\n",
      "numerical: -1.435887 analytic: -1.435887, relative error: 4.983634e-08\n",
      "numerical: -0.029411 analytic: -0.029412, relative error: 1.109662e-06\n",
      "numerical: 1.377246 analytic: 1.377246, relative error: 3.932820e-08\n",
      "numerical: -1.614361 analytic: -1.614361, relative error: 3.459056e-10\n",
      "numerical: 0.232478 analytic: 0.232478, relative error: 8.567187e-08\n",
      "numerical: -2.980989 analytic: -2.980989, relative error: 1.937748e-08\n",
      "numerical: -1.365556 analytic: -1.365556, relative error: 4.090211e-08\n",
      "numerical: 1.760938 analytic: 1.760937, relative error: 3.336828e-08\n",
      "numerical: 4.218373 analytic: 4.218373, relative error: 1.801050e-08\n",
      "numerical: 2.700719 analytic: 2.700719, relative error: 3.772484e-08\n",
      "numerical: 0.567295 analytic: 0.567295, relative error: 7.792875e-08\n",
      "numerical: 2.078362 analytic: 2.078362, relative error: 1.233408e-08\n",
      "numerical: 0.074076 analytic: 0.074075, relative error: 1.200194e-06\n",
      "numerical: -2.200885 analytic: -2.200885, relative error: 4.198734e-09\n",
      "numerical: 1.471361 analytic: 1.471361, relative error: 3.991115e-08\n",
      "numerical: -0.287227 analytic: -0.287227, relative error: 3.033272e-08\n"
     ]
    }
   ],
   "source": [
    "# 完成softmax_loss_naive，并实现使用嵌套循环的梯度的版本(naive)。\n",
    "loss, grad = softmax_loss_naive(W, X_dev, y_dev, 0.0)\n",
    "\n",
    "# 就像SVM那样，请使用数值梯度检查作为调试工具。\n",
    "# 数值梯度应接近分析梯度。\n",
    "from daseCV.gradient_check import grad_check_sparse\n",
    "f = lambda w: softmax_loss_naive(w, X_dev, y_dev, 0.0)[0]\n",
    "grad_numerical = grad_check_sparse(f, W, grad, 10)\n",
    "\n",
    "# 与SVM情况类似，使用正则化进行另一个梯度检查\n",
    "loss, grad = softmax_loss_naive(W, X_dev, y_dev, 5e1)\n",
    "f = lambda w: softmax_loss_naive(w, X_dev, y_dev, 5e1)[0]\n",
    "grad_numerical = grad_check_sparse(f, W, grad, 10)"
   ]
  },
  {
   "cell_type": "code",
   "execution_count": 5,
   "metadata": {},
   "outputs": [
    {
     "name": "stdout",
     "output_type": "stream",
     "text": [
      "naive loss: 2.328941e+00 computed in 0.144158s\n",
      "vectorized loss: 2.328941e+00 computed in 0.006968s\n",
      "Loss difference: 0.000000\n",
      "Gradient difference: 0.000000\n"
     ]
    }
   ],
   "source": [
    "# 现在，我们有了softmax损失函数及其梯度的简单实现，\n",
    "# 接下来要在 softmax_loss_vectorized 中完成一个向量化版本.\n",
    "# 这两个版本应计算出相同的结果，但矢量化版本应更快。\n",
    "tic = time.time()\n",
    "loss_naive, grad_naive = softmax_loss_naive(W, X_dev, y_dev, 0.000005)\n",
    "toc = time.time()\n",
    "print('naive loss: %e computed in %fs' % (loss_naive, toc - tic))\n",
    "\n",
    "from daseCV.classifiers.softmax import softmax_loss_vectorized\n",
    "tic = time.time()\n",
    "loss_vectorized, grad_vectorized = softmax_loss_vectorized(W, X_dev, y_dev, 0.000005)\n",
    "toc = time.time()\n",
    "print('vectorized loss: %e computed in %fs' % (loss_vectorized, toc - tic))\n",
    "\n",
    "# 正如前面在SVM练习中所做的一样，我们使用Frobenius范数比较两个版本梯度。\n",
    "grad_difference = np.linalg.norm(grad_naive - grad_vectorized, ord='fro')\n",
    "print('Loss difference: %f' % np.abs(loss_naive - loss_vectorized))\n",
    "print('Gradient difference: %f' % grad_difference)"
   ]
  },
  {
   "cell_type": "code",
   "execution_count": 6,
   "metadata": {
    "tags": [
     "code"
    ]
   },
   "outputs": [
    {
     "name": "stdout",
     "output_type": "stream",
     "text": [
      "iteration 0 / 2000: loss 391.015759\n",
      "iteration 100 / 2000: loss 236.337544\n",
      "iteration 200 / 2000: loss 143.758882\n",
      "iteration 300 / 2000: loss 87.647591\n",
      "iteration 400 / 2000: loss 53.744731\n",
      "iteration 500 / 2000: loss 33.346578\n",
      "iteration 600 / 2000: loss 20.884699\n",
      "iteration 700 / 2000: loss 13.387537\n",
      "iteration 800 / 2000: loss 8.975011\n",
      "iteration 900 / 2000: loss 6.236119\n",
      "iteration 1000 / 2000: loss 4.693657\n",
      "iteration 1100 / 2000: loss 3.601062\n",
      "iteration 1200 / 2000: loss 2.879570\n",
      "iteration 1300 / 2000: loss 2.547288\n",
      "iteration 1400 / 2000: loss 2.398905\n",
      "iteration 1500 / 2000: loss 2.245978\n",
      "iteration 1600 / 2000: loss 2.107852\n",
      "iteration 1700 / 2000: loss 2.142724\n",
      "iteration 1800 / 2000: loss 2.031930\n",
      "iteration 1900 / 2000: loss 2.162047\n",
      "iteration 0 / 2000: loss 767.449674\n",
      "iteration 100 / 2000: loss 282.013477\n",
      "iteration 200 / 2000: loss 104.422405\n",
      "iteration 300 / 2000: loss 39.560332\n",
      "iteration 400 / 2000: loss 15.741760\n",
      "iteration 500 / 2000: loss 7.110953\n",
      "iteration 600 / 2000: loss 3.975867\n",
      "iteration 700 / 2000: loss 2.701244\n",
      "iteration 800 / 2000: loss 2.303215\n",
      "iteration 900 / 2000: loss 2.212597\n",
      "iteration 1000 / 2000: loss 2.088788\n",
      "iteration 1100 / 2000: loss 2.009161\n",
      "iteration 1200 / 2000: loss 2.048752\n",
      "iteration 1300 / 2000: loss 2.060883\n",
      "iteration 1400 / 2000: loss 2.077703\n",
      "iteration 1500 / 2000: loss 2.074524\n",
      "iteration 1600 / 2000: loss 2.076831\n",
      "iteration 1700 / 2000: loss 2.018494\n",
      "iteration 1800 / 2000: loss 2.094431\n",
      "iteration 1900 / 2000: loss 2.055358\n",
      "iteration 0 / 2000: loss 389.489922\n",
      "iteration 100 / 2000: loss 32.873297\n",
      "iteration 200 / 2000: loss 4.517463\n",
      "iteration 300 / 2000: loss 2.219714\n",
      "iteration 400 / 2000: loss 2.051054\n",
      "iteration 500 / 2000: loss 2.079101\n",
      "iteration 600 / 2000: loss 1.962575\n",
      "iteration 700 / 2000: loss 1.986198\n",
      "iteration 800 / 2000: loss 2.036719\n",
      "iteration 900 / 2000: loss 1.984158\n",
      "iteration 1000 / 2000: loss 2.066791\n",
      "iteration 1100 / 2000: loss 2.048978\n",
      "iteration 1200 / 2000: loss 2.082957\n",
      "iteration 1300 / 2000: loss 2.073604\n",
      "iteration 1400 / 2000: loss 2.012458\n",
      "iteration 1500 / 2000: loss 2.048525\n",
      "iteration 1600 / 2000: loss 2.028032\n",
      "iteration 1700 / 2000: loss 2.041288\n",
      "iteration 1800 / 2000: loss 2.007717\n",
      "iteration 1900 / 2000: loss 2.016701\n",
      "iteration 0 / 2000: loss 773.014666\n",
      "iteration 100 / 2000: loss 6.878241\n",
      "iteration 200 / 2000: loss 2.145668\n",
      "iteration 300 / 2000: loss 2.111835\n",
      "iteration 400 / 2000: loss 2.088650\n",
      "iteration 500 / 2000: loss 2.128571\n",
      "iteration 600 / 2000: loss 2.104600\n",
      "iteration 700 / 2000: loss 2.112829\n",
      "iteration 800 / 2000: loss 2.132980\n",
      "iteration 900 / 2000: loss 2.090462\n",
      "iteration 1000 / 2000: loss 2.067179\n",
      "iteration 1100 / 2000: loss 2.137672\n",
      "iteration 1200 / 2000: loss 2.065641\n",
      "iteration 1300 / 2000: loss 2.117481\n",
      "iteration 1400 / 2000: loss 2.138249\n",
      "iteration 1500 / 2000: loss 2.100772\n",
      "iteration 1600 / 2000: loss 2.157876\n",
      "iteration 1700 / 2000: loss 2.057453\n",
      "iteration 1800 / 2000: loss 2.067017\n",
      "iteration 1900 / 2000: loss 2.099778\n",
      "lr 1.000000e-07 reg 2.500000e+04 train accuracy: 0.352224 val accuracy: 0.361000\n",
      "lr 1.000000e-07 reg 5.000000e+04 train accuracy: 0.324939 val accuracy: 0.341000\n",
      "lr 5.000000e-07 reg 2.500000e+04 train accuracy: 0.350469 val accuracy: 0.361000\n",
      "lr 5.000000e-07 reg 5.000000e+04 train accuracy: 0.319959 val accuracy: 0.341000\n",
      "best validation accuracy achieved during cross-validation: 0.361000\n"
     ]
    }
   ],
   "source": [
    "# 使用验证集调整超参数（正则化强度和学习率）。您应该尝试不同的学习率和正则化强度范围; \n",
    "# 如果您小心的话，您应该能够在验证集上获得超过0.35的精度。\n",
    "from daseCV.classifiers import Softmax\n",
    "results = {}\n",
    "best_val = -1\n",
    "best_softmax = None\n",
    "learning_rates = [1e-7, 5e-7]\n",
    "regularization_strengths = [2.5e4, 5e4]\n",
    "\n",
    "################################################################################\n",
    "# 需要完成的事:                                                                        \n",
    "# 对验证集设置学习率和正则化强度。\n",
    "# 这与之前SVM中做的类似；\n",
    "# 保存训练效果最好的softmax分类器到best_softmax中。\n",
    "################################################################################\n",
    "# *****START OF YOUR CODE (DO NOT DELETE/MODIFY THIS LINE)*****\n",
    "\n",
    "for lr in learning_rates:\n",
    "    for rs in regularization_strengths:\n",
    "        softmax=Softmax()\n",
    "        softmax.train(X_train, y_train, learning_rate=lr, reg=rs, num_iters=2000,verbose=True)\n",
    "        \n",
    "        y_train_pred=softmax.predict(X_train)\n",
    "        acrate_train=np.mean(y_train==y_train_pred)\n",
    "        y_val_pred=softmax.predict(X_val)\n",
    "        acrate_val=np.mean(y_val==y_val_pred)\n",
    "        \n",
    "        results[(lr,rs)]=(acrate_train,acrate_val)\n",
    "        \n",
    "        if best_val < acrate_val:\n",
    "            best_val = acrate_val\n",
    "            best_softmax = softmax\n",
    "\n",
    "# *****END OF YOUR CODE (DO NOT DELETE/MODIFY THIS LINE)*****\n",
    "    \n",
    "# Print out results.\n",
    "for lr, reg in sorted(results):\n",
    "    train_accuracy, val_accuracy = results[(lr, reg)]\n",
    "    print('lr %e reg %e train accuracy: %f val accuracy: %f' % (\n",
    "                lr, reg, train_accuracy, val_accuracy))\n",
    "    \n",
    "print('best validation accuracy achieved during cross-validation: %f' % best_val)"
   ]
  },
  {
   "cell_type": "code",
   "execution_count": 7,
   "metadata": {},
   "outputs": [
    {
     "name": "stdout",
     "output_type": "stream",
     "text": [
      "softmax on raw pixels final test set accuracy: 0.357000\n"
     ]
    }
   ],
   "source": [
    "# 在测试集上评估\n",
    "# 在测试集上评估最好的softmax\n",
    "y_test_pred = best_softmax.predict(X_test)\n",
    "test_accuracy = np.mean(y_test == y_test_pred)\n",
    "print('softmax on raw pixels final test set accuracy: %f' % (test_accuracy, ))"
   ]
  },
  {
   "cell_type": "markdown",
   "metadata": {
    "tags": [
     "pdf-inline"
    ]
   },
   "source": [
    "**问题 2** - *对或错*\n",
    "\n",
    "假设总训练损失定义为所有训练样本中每个数据点损失的总和。可能会有新的数据点添加到训练集中，同时SVM损失保持不变，但是对于Softmax分类器的损失而言，情况并非如此。\n",
    "\n",
    "$\\color{blue}{\\textit 你的回答:}$正确\n",
    "\n",
    "\n",
    "$\\color{blue}{\\textit 你的解释:}$在支持向量机的合页损失函数 $max(0,s_j-s_{y_i}+1)$ 中，当 $s_j-s_{y_i}+1$ 小于零，损失函数也为零，则当新的数据点添加到训练集中，SVM损失保持不变。而Softmax分类器的损失函数为 $L_i=-log(\\frac{e^{s_{y_i}}}{\\sum_j e^{s_j}})=-log(\\frac{e^{s_{y_i}}}{e^{s_{y_i}}+\\sum_{j\\neq y_i} e^{s_j}})$ ，如果损失函数为零， $\\frac{e^{s_{y_i}}}{e^{s_{y_i}}+\\sum_{j\\neq y_i} e^{s_j}}=1$ ， $\\sum_{j\\neq y_i} e^{s_j}=0$ 。但是 $e^x\\gt 0$ 恒成立，所以Softmax分类器的损失函数不能取到零，当新的数据点添加到训练集中，Softmax损失一定会变化。\n",
    "\n"
   ]
  },
  {
   "cell_type": "code",
   "execution_count": 8,
   "metadata": {},
   "outputs": [
    {
     "data": {
      "image/png": "[encoded data removed]",
      "text/plain": [
       "<Figure size 1000x800 with 10 Axes>"
      ]
     },
     "metadata": {},
     "output_type": "display_data"
    }
   ],
   "source": [
    "# 可视化每个类别的学习到的权重\n",
    "w = best_softmax.W[:-1,:] # strip out the bias\n",
    "w = w.reshape(32, 32, 3, 10)\n",
    "\n",
    "w_min, w_max = np.min(w), np.max(w)\n",
    "\n",
    "classes = ['plane', 'car', 'bird', 'cat', 'deer', 'dog', 'frog', 'horse', 'ship', 'truck']\n",
    "for i in range(10):\n",
    "    plt.subplot(2, 5, i + 1)\n",
    "    \n",
    "    # Rescale the weights to be between 0 and 255\n",
    "    wimg = 255.0 * (w[:, :, :, i].squeeze() - w_min) / (w_max - w_min)\n",
    "    plt.imshow(wimg.astype('uint8'))\n",
    "    plt.axis('off')\n",
    "    plt.title(classes[i])"
   ]
  },
  {
   "cell_type": "markdown",
   "metadata": {},
   "source": [
    "### Data for leaderboard\n",
    "这里额外提供了一组未给标签的测试集X，用于leaderborad上的竞赛。\n",
    "\n",
    "---\n",
    "提示：该题的目的是鼓励同学们探索能够提升模型性能的方法。"
   ]
  },
  {
   "cell_type": "code",
   "execution_count": 9,
   "metadata": {},
   "outputs": [],
   "source": [
    "# leaderboard的测试数据\n",
    "X = np.load(\"./input/X_3073.npy\")\n",
    "################################################################################\n",
    "# 需要完成的事情: \n",
    "# 找到更合适的softmax\n",
    "# 提示：如果你不想花时间，你也可以直接使用上面已经训练好的best_softmax。                   \n",
    "################################################################################\n",
    "# *****START OF YOUR CODE (DO NOT DELETE/MODIFY THIS LINE)*****\n",
    "softmax_leaderboard = best_softmax\n",
    "preds = softmax_leaderboard.predict(X)"
   ]
  },
  {
   "cell_type": "markdown",
   "metadata": {},
   "source": [
    "提醒：运行完下面代码之后，点击下面的submit，然后去leaderboard上查看你的成绩。本模型对应的成绩在phase3的leaderboard中。"
   ]
  },
  {
   "cell_type": "code",
   "execution_count": 10,
   "metadata": {},
   "outputs": [],
   "source": [
    "import os\n",
    "#输出格式\n",
    "def output_file(preds, phase_id=3):\n",
    "    path=os.getcwd()\n",
    "    if not os.path.exists(path + '/output/phase_{}'.format(phase_id)):\n",
    "        os.mkdir(path + '/output/phase_{}'.format(phase_id))\n",
    "    path=path + '/output/phase_{}/prediction.npy'.format(phase_id)\n",
    "    np.save(path,preds)\n",
    "def zip_fun(phase_id=3):\n",
    "    path=os.getcwd()\n",
    "    output_path = path + '/output'\n",
    "    files = os.listdir(output_path)\n",
    "    for _file in files:\n",
    "        if _file.find('zip') != -1:\n",
    "            os.remove(output_path + '/' + _file)\n",
    "    newpath=path+'/output/phase_{}'.format(phase_id)\n",
    "    os.chdir(newpath)\n",
    "    cmd = 'zip ../prediction_phase_{}.zip prediction.npy'.format(phase_id)\n",
    "    os.system(cmd)\n",
    "    os.chdir(path)\n",
    "output_file(preds)\n",
    "zip_fun()"
   ]
  },
  {
   "cell_type": "code",
   "execution_count": null,
   "metadata": {},
   "outputs": [],
   "source": []
  }
 ],
 "metadata": {
  "kernelspec": {
   "display_name": "Python 3 (ipykernel)",
   "language": "python",
   "name": "python3"
  },
  "language_info": {
   "codemirror_mode": {
    "name": "ipython",
    "version": 3
   },
   "file_extension": ".py",
   "mimetype": "text/x-python",
   "name": "python",
   "nbconvert_exporter": "python",
   "pygments_lexer": "ipython3",
   "version": "3.10.9"
  },
  "vscode": {
   "interpreter": {
    "hash": "31f2aee4e71d21fbe5cf8b01ff0e069b9275f58929596ceb00d14d90e3e16cd6"
   }
  }
 },
 "nbformat": 4,
 "nbformat_minor": 4
}
